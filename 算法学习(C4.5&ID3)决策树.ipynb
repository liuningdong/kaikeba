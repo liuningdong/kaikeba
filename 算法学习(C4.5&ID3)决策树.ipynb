{
 "cells": [
  {
   "cell_type": "code",
   "execution_count": 1,
   "metadata": {},
   "outputs": [],
   "source": [
    "import pandas as pd\n",
    "import re \n",
    "import numpy as np"
   ]
  },
  {
   "cell_type": "markdown",
   "metadata": {},
   "source": [
    "### C4.5算法\n",
    "c4.5算法是一种决策树算法 决策树算法作为分类算法,目标就是将具有P维的特征的n个样本分到C类中去,常见的决策树算法有ID3.C4.5 CART"
   ]
  },
  {
   "cell_type": "code",
   "execution_count": 13,
   "metadata": {},
   "outputs": [
    {
     "data": {
      "text/html": [
       "<div>\n",
       "<style scoped>\n",
       "    .dataframe tbody tr th:only-of-type {\n",
       "        vertical-align: middle;\n",
       "    }\n",
       "\n",
       "    .dataframe tbody tr th {\n",
       "        vertical-align: top;\n",
       "    }\n",
       "\n",
       "    .dataframe thead th {\n",
       "        text-align: right;\n",
       "    }\n",
       "</style>\n",
       "<table border=\"1\" class=\"dataframe\">\n",
       "  <thead>\n",
       "    <tr style=\"text-align: right;\">\n",
       "      <th></th>\n",
       "      <th>样本类别1</th>\n",
       "      <th>样本类别2</th>\n",
       "      <th>样本类别3</th>\n",
       "      <th>样本类别4</th>\n",
       "      <th>分类状态</th>\n",
       "    </tr>\n",
       "  </thead>\n",
       "  <tbody>\n",
       "    <tr>\n",
       "      <th>0</th>\n",
       "      <td>A</td>\n",
       "      <td>A</td>\n",
       "      <td>A</td>\n",
       "      <td>A</td>\n",
       "      <td>进行(A)</td>\n",
       "    </tr>\n",
       "    <tr>\n",
       "      <th>1</th>\n",
       "      <td>A</td>\n",
       "      <td>B</td>\n",
       "      <td>A</td>\n",
       "      <td>B</td>\n",
       "      <td>进行(A)</td>\n",
       "    </tr>\n",
       "    <tr>\n",
       "      <th>2</th>\n",
       "      <td>A</td>\n",
       "      <td>B</td>\n",
       "      <td>A</td>\n",
       "      <td>A</td>\n",
       "      <td>进行(A)</td>\n",
       "    </tr>\n",
       "    <tr>\n",
       "      <th>3</th>\n",
       "      <td>B</td>\n",
       "      <td>A</td>\n",
       "      <td>A</td>\n",
       "      <td>B</td>\n",
       "      <td>取消(B)</td>\n",
       "    </tr>\n",
       "    <tr>\n",
       "      <th>4</th>\n",
       "      <td>B</td>\n",
       "      <td>B</td>\n",
       "      <td>A</td>\n",
       "      <td>A</td>\n",
       "      <td>进行(A)</td>\n",
       "    </tr>\n",
       "    <tr>\n",
       "      <th>5</th>\n",
       "      <td>A</td>\n",
       "      <td>A</td>\n",
       "      <td>B</td>\n",
       "      <td>A</td>\n",
       "      <td>进行(A)</td>\n",
       "    </tr>\n",
       "    <tr>\n",
       "      <th>6</th>\n",
       "      <td>B</td>\n",
       "      <td>B</td>\n",
       "      <td>B</td>\n",
       "      <td>B</td>\n",
       "      <td>进行(A)</td>\n",
       "    </tr>\n",
       "    <tr>\n",
       "      <th>7</th>\n",
       "      <td>A</td>\n",
       "      <td>A</td>\n",
       "      <td>B</td>\n",
       "      <td>B</td>\n",
       "      <td>取消(B)</td>\n",
       "    </tr>\n",
       "    <tr>\n",
       "      <th>8</th>\n",
       "      <td>B</td>\n",
       "      <td>A</td>\n",
       "      <td>B</td>\n",
       "      <td>B</td>\n",
       "      <td>取消(B)</td>\n",
       "    </tr>\n",
       "  </tbody>\n",
       "</table>\n",
       "</div>"
      ],
      "text/plain": [
       "  样本类别1 样本类别2 样本类别3 样本类别4   分类状态\n",
       "0     A     A     A     A  进行(A)\n",
       "1     A     B     A     B  进行(A)\n",
       "2     A     B     A     A  进行(A)\n",
       "3     B     A     A     B  取消(B)\n",
       "4     B     B     A     A  进行(A)\n",
       "5     A     A     B     A  进行(A)\n",
       "6     B     B     B     B  进行(A)\n",
       "7     A     A     B     B  取消(B)\n",
       "8     B     A     B     B  取消(B)"
      ]
     },
     "execution_count": 13,
     "metadata": {},
     "output_type": "execute_result"
    }
   ],
   "source": [
    "# date = [\n",
    "#     ['晴天','寒冷','正常','弱','进行'],\n",
    "#     ['晴天','适中','正常','强','进行'],\n",
    "#     ['晴天','炎热','高','弱','取消'],\n",
    "#     ['晴天','炎热','高','弱','取消'],\n",
    "#     ['晴天','适中','适中','弱','取消'],\n",
    "#     ['阴天','炎热','高','弱','进行'],\n",
    "#     ['阴天','寒冷','正常','强','进行'],\n",
    "#     ['雨天','寒冷','高','强','进行'],\n",
    "#     ['雨天','适中','高','强','进行'],\n",
    "# ]\n",
    "date = [\n",
    "    ['A','A','A','A','进行(A)'],\n",
    "    ['A','B','A','B','进行(A)'],\n",
    "    ['A','B','A','A','进行(A)'],\n",
    "    ['B','A','A','B','取消(B)'],\n",
    "    ['B','B','A','A','进行(A)'],\n",
    "    ['A','A','B','A','进行(A)'],\n",
    "    ['B','B','B','B','进行(A)'],\n",
    "    ['A','A','B','B','取消(B)'],\n",
    "    ['B','A','B','B','取消(B)'],\n",
    "]\n",
    "DATE_FROM = pd.DataFrame(date,columns=['样本类别1','样本类别2','样本类别3','样本类别4','分类状态'])\n",
    "DATE_FROM"
   ]
  },
  {
   "cell_type": "markdown",
   "metadata": {},
   "source": [
    "### 0.1:计算最终分类信息熵(熵)\n",
    "###### 分类信息熵 = -分类状态(A)(个数)/分类总数 * log2 (分类状态(A)个数/分类总数) - 分类状态(B)(个数)/分类总数 * log2 (分类状态(B)(个数)/分类总数) "
   ]
  },
  {
   "cell_type": "markdown",
   "metadata": {},
   "source": [
    "info(D) = -6/9 * log2 (6/9) - 3/9 * log2 (3/9)"
   ]
  },
  {
   "cell_type": "markdown",
   "metadata": {},
   "source": [
    "### 0.2:特征属性信息熵(条件熵)\n",
    "###### 每条属性的信息相当于一种条件熵,他表示的是某种属性的条件下,各种类别出现的不确定性之和,属性的信息熵越大,表示这个属性中拥有的样本类别越不纯\n",
    "属性信息熵(A) = 样本类别(A)(个数)/样本总数 * [-分类状态(A)个数 /样本类别(A)(个数) * log2 (分类状态(A)(个数)/样本类别)(A)(个数)]+[-分类状态(B)个数 /样本类别(B)(个数) * log2 (分类状态(B)(个数)/样本类别)(B)(个数)]"
   ]
  },
  {
   "cell_type": "markdown",
   "metadata": {},
   "source": [
    "### 0.3 计算信息增益\n",
    "###### 信息增益 = 熵 - 条件熵 熵:表示为分类信息熵,类别信息熵-属性信息熵,表示信息不确定性减少程度,如果一个属性的信息增益大,表示这个属性的样本划分可以更好的减少划分后样本的不确定性,\n",
    "###### 简单来说信息增益越小,分类目标越准确\n",
    "信息增益(单个特征) = 熵(分类信息熵) - 条件熵(样本类别A)"
   ]
  },
  {
   "cell_type": "markdown",
   "metadata": {},
   "source": [
    "### 0.5 计算属性分裂信息度量\n",
    "###### 用分裂信息度量来考虑某种属性进行分裂时分支的数量和尺寸信息,标为属性的(内在信息).\n",
    "###### 信息增益率 = 信息增益/内在信息 \n",
    "###### 结果会导致属性的的重要性会随着内在的信息增益的增大而减小(如果这个属性本身不确定性就很大，那我就越不倾向于选取它）,这样算是对单纯用信息增益有所补偿)\n",
    "###### H(样本类别1) = -样本类别(A)(个数) / 样本类别(总数) * log2(样本类别(A)(个数) / 样本类别(总数)) - -样本类别(A)(个数) / 样本类别(总数) * log2(样本类别(A)(个数) / 样本类别(总数)) = H(样本类别1)分裂信息度量值  //样本类别1分为AB 取两个值"
   ]
  },
  {
   "cell_type": "markdown",
   "metadata": {},
   "source": [
    "### 0.6 信息增益率\n",
    "信息增益率(样本类别1) = 信息增益(样本类别1) / H(样本类别)内在信息"
   ]
  },
  {
   "cell_type": "markdown",
   "metadata": {},
   "source": [
    "### 优缺点:\n",
    "    优点:产生的分类规则易于理解,准确率较高\n",
    "    缺点:在构造树的过程中,需要对数据集进行多次的顺序扫描和排序,导致算法效率低"
   ]
  },
  {
   "cell_type": "code",
   "execution_count": null,
   "metadata": {},
   "outputs": [],
   "source": [
    "# while (当前节点”不纯“)  \n",
    "# \t(1)计算当前节点的类别信息熵Info(D) （以类别取值计算）  \n",
    "# \t(2)计算当前节点各个属性的信息熵Info(Ai) （以属性取值下的类别取值计算）  \n",
    "# \t(3)计算各个属性的信息增益Gain(Ai)=Info(D)-Info(Ai)  \n",
    "# \t(4)计算各个属性的分类信息度量H(Ai) （以属性取值计算）  \n",
    "# \t(5)计算各个属性的信息增益率IGR(Ai)=Gain(Ai)/H(Ai)  \n",
    "# end while  "
   ]
  },
  {
   "cell_type": "markdown",
   "metadata": {},
   "source": [
    "### ID3算法原理代码详解"
   ]
  },
  {
   "cell_type": "code",
   "execution_count": 18,
   "metadata": {},
   "outputs": [
    {
     "name": "stdout",
     "output_type": "stream",
     "text": [
      "特征(年龄) - info_gain - 0.083\n",
      "特征(有工作) - info_gain - 0.324\n",
      "特征(有自己的房子) - info_gain - 0.420\n",
      "特征(信贷情况) - info_gain - 0.363\n"
     ]
    },
    {
     "data": {
      "text/plain": [
       "'特征(有自己的房子)的信息增益最大，选择为根节点特征'"
      ]
     },
     "execution_count": 18,
     "metadata": {},
     "output_type": "execute_result"
    }
   ],
   "source": [
    "\n",
    "import numpy as np\n",
    "import pandas as pd\n",
    "import matplotlib.pyplot as plt\n",
    "from sklearn.datasets import load_iris\n",
    "from sklearn.model_selection import train_test_split\n",
    "from collections import Counter\n",
    "import math\n",
    "from math import log\n",
    "import pprint\n",
    "\n",
    "def create_data():\n",
    "    datasets = [\n",
    "               ['青年', '否', '否', '一般', '否'],\n",
    "               ['青年', '否', '否', '好', '否'],\n",
    "               ['青年', '是', '否', '好', '是'],\n",
    "               ['青年', '是', '是', '一般', '是'],\n",
    "               ['青年', '否', '否', '一般', '否'],\n",
    "               ['中年', '否', '否', '一般', '否'],\n",
    "               ['中年', '否', '否', '好', '否'],\n",
    "               ['中年', '是', '是', '好', '是'],\n",
    "               ['中年', '否', '是', '非常好', '是'],\n",
    "               ['中年', '否', '是', '非常好', '是'],\n",
    "               ['老年', '否', '是', '非常好', '是'],\n",
    "               ['老年', '否', '是', '好', '是'],\n",
    "               ['老年', '是', '否', '好', '是'],\n",
    "               ['老年', '是', '否', '非常好', '是'],\n",
    "               ['老年', '否', '否', '一般', '否'],\n",
    "               ]\n",
    "    labels = [u'年龄', u'有工作', u'有自己的房子', u'信贷情况', u'类别']\n",
    "    # 返回数据集和每个维度的名称\n",
    "    return datasets, labels\n",
    "datasets, labels = create_data()\n",
    "train_data = pd.DataFrame(datasets, columns=labels)\n",
    "\n",
    "# 熵\n",
    "def calc_ent(datasets):\n",
    "    data_length = len(datasets)\n",
    "    label_count = {}\n",
    "    for i in range(data_length):\n",
    "        label = datasets[i][-1]\n",
    "        if label not in label_count:\n",
    "            label_count[label] = 0\n",
    "        label_count[label] += 1\n",
    "    ent = -sum([(p/data_length)*log(p/data_length, 2) for p in label_count.values()])\n",
    "    return ent\n",
    "\n",
    "# 经验条件熵\n",
    "def cond_ent(datasets, axis=0):\n",
    "    data_length = len(datasets)\n",
    "    feature_sets = {}\n",
    "    for i in range(data_length):\n",
    "        feature = datasets[i][axis]\n",
    "        if feature not in feature_sets:\n",
    "            feature_sets[feature] = []\n",
    "        feature_sets[feature].append(datasets[i])\n",
    "    cond_ent = sum([(len(p)/data_length)*calc_ent(p) for p in feature_sets.values()])\n",
    "    return cond_ent\n",
    "\n",
    "# 信息增益\n",
    "def info_gain(ent, cond_ent):\n",
    "    return ent - cond_ent\n",
    "\n",
    "def info_gain_train(datasets):\n",
    "    count = len(datasets[0]) - 1\n",
    "    ent = calc_ent(datasets)\n",
    "    best_feature = []\n",
    "    for c in range(count):\n",
    "        c_info_gain = info_gain(ent, cond_ent(datasets, axis=c))\n",
    "        best_feature.append((c, c_info_gain))\n",
    "        print('特征({}) - info_gain - {:.3f}'.format(labels[c], c_info_gain))\n",
    "    # 比较大小\n",
    "    best_ = max(best_feature, key=lambda x: x[-1])\n",
    "    return '特征({})的信息增益最大，选择为根节点特征'.format(labels[best_[0]])\n",
    "\n",
    "info_gain_train(np.array(datasets))"
   ]
  },
  {
   "cell_type": "code",
   "execution_count": null,
   "metadata": {},
   "outputs": [],
   "source": []
  },
  {
   "cell_type": "code",
   "execution_count": null,
   "metadata": {},
   "outputs": [],
   "source": []
  },
  {
   "cell_type": "code",
   "execution_count": null,
   "metadata": {},
   "outputs": [],
   "source": []
  },
  {
   "cell_type": "code",
   "execution_count": null,
   "metadata": {},
   "outputs": [],
   "source": [
    "#同样首先，我们调用模块\n",
    "#matplotlib是python专门用于画图的库\n",
    "import matplotlib.pyplot as plt\n",
    "from sklearn import datasets\n",
    "#调用线性回归函数\n",
    "from sklearn.linear_model import LinearRegression\n",
    "import pandas as pd"
   ]
  },
  {
   "cell_type": "code",
   "execution_count": null,
   "metadata": {},
   "outputs": [],
   "source": [
    "def func_market2(market_data3, months, drivingForm, vehicleType):\n",
    "    X = np.array(market_data3['月数'])\n",
    "    Y = np.array(market_data3['价格（万元）'])\n",
    "    x_ = X.reshape(X.shape[0], 1)\n",
    "    quadratic_featurizer = PolynomialFeatures(degree=2)  # 实例化一个二次多项式特征实例\n",
    "    X_train_quadratic = quadratic_featurizer.fit_transform(x_)  # 用二次多项式对样本x_值做变换\n",
    "    regressor_quadratic = LinearRegression()  # 创建一个线性回归实例\n",
    "    regressor_quadratic.fit(X_train_quadratic, Y)  # 以多项式变换后的x_值为输入，代入线性回归模型做训练\n",
    "    # 市场数据少于6条，则没有市场价格\n",
    "    if market_data3.shape[0] >= 10:\n",
    "        X_ = np.array(months)\n",
    "        xx_quadratic = quadratic_featurizer.transform(X_)\n",
    "        pre_price = regressor_quadratic.predict(xx_quadratic)\n",
    "        pre_price = pre_price[0]\n",
    "        if (vehicleType == '牵引车') & ((drivingForm == '6×2') | (drivingForm == '4×2')):\n",
    "            PM1 = round(pre_price * 0.94 * 0.66, 2)\n",
    "            PM2 = round(pre_price * 1.02 * 0.66, 2)\n",
    "        else:\n",
    "            PM1 = round(pre_price * 0.94, 2)\n",
    "            PM2 = round(pre_price * 1.02, 2)\n",
    "    else:\n",
    "        PM1 = 0\n",
    "        PM2 = 0\n",
    "    return [PM1, PM2, regressor_quadratic.coef_[2], regressor_quadratic.coef_[1], regressor_quadratic.intercept_,\n",
    "            market_data3.shape[0]]"
   ]
  },
  {
   "cell_type": "code",
   "execution_count": 21,
   "metadata": {},
   "outputs": [
    {
     "name": "stdout",
     "output_type": "stream",
     "text": [
      "[30.00821269 25.0298606  30.5702317  28.60814055]\n",
      "[24.  21.6 34.7 33.4]\n"
     ]
    }
   ],
   "source": [
    "#导入数据集\n",
    "#这里将全部数据用于训练，并没有对数据进行划分，上例中\n",
    "#将数据划分为训练和测试数据，后面会讲到交叉验证\n",
    "loaded_data = datasets.load_boston()\n",
    "data_X = loaded_data.data\n",
    "data_y = loaded_data.target\n",
    "\n",
    "#设置线性回归模块\n",
    "model = LinearRegression()\n",
    "#训练数据，得出参数\n",
    "model.fit(data_X, data_y)\n",
    "\n",
    "#利用模型，对新数据，进行预测，与原标签进行比较\n",
    "print(model.predict(data_X[:4,:]))\n",
    "print(data_y[:4])"
   ]
  },
  {
   "cell_type": "code",
   "execution_count": 22,
   "metadata": {},
   "outputs": [],
   "source": [
    "from __future__ import print_function\n",
    "from sklearn import datasets\n",
    "from sklearn.linear_model import LinearRegression\n",
    "import matplotlib.pyplot as plt"
   ]
  },
  {
   "cell_type": "code",
   "execution_count": 23,
   "metadata": {},
   "outputs": [],
   "source": [
    "oaded_data = datasets.load_boston()\n",
    "data_X = loaded_data.data\n",
    "data_y = loaded_data.target"
   ]
  },
  {
   "cell_type": "code",
   "execution_count": 25,
   "metadata": {},
   "outputs": [
    {
     "data": {
      "text/plain": [
       "LinearRegression(copy_X=True, fit_intercept=True, n_jobs=1, normalize=False)"
      ]
     },
     "execution_count": 25,
     "metadata": {},
     "output_type": "execute_result"
    }
   ],
   "source": [
    "model = LinearRegression()\n",
    "model.fit(data_X, data_y)"
   ]
  },
  {
   "cell_type": "code",
   "execution_count": 26,
   "metadata": {},
   "outputs": [],
   "source": [
    "X, y = datasets.make_regression(n_samples=100, n_features=1, n_targets=1, noise=10)"
   ]
  },
  {
   "cell_type": "code",
   "execution_count": 27,
   "metadata": {},
   "outputs": [
    {
     "data": {
      "image/png": "[encoded data removed]",
      "text/plain": [
       "<matplotlib.figure.Figure at 0x256175d0e80>"
      ]
     },
     "metadata": {
      "needs_background": "light"
     },
     "output_type": "display_data"
    }
   ],
   "source": [
    "plt.scatter(X, y)\n",
    "plt.show()"
   ]
  }
 ],
 "metadata": {
  "kernelspec": {
   "display_name": "Python 3",
   "language": "python",
   "name": "python3"
  },
  "language_info": {
   "codemirror_mode": {
    "name": "ipython",
    "version": 3
   },
   "file_extension": ".py",
   "mimetype": "text/x-python",
   "name": "python",
   "nbconvert_exporter": "python",
   "pygments_lexer": "ipython3",
   "version": "3.6.4"
  }
 },
 "nbformat": 4,
 "nbformat_minor": 2
}
