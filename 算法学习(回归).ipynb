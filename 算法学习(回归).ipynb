{
 "cells": [
  {
   "cell_type": "code",
   "execution_count": 1,
   "metadata": {},
   "outputs": [],
   "source": [
    "import numpy as np\n",
    "import matplotlib.pyplot as plt\n",
    "from sklearn.preprocessing import PolynomialFeatures #多项式特征\n",
    "from sklearn.linear_model import LinearRegression # 线性回归\n",
    "from sklearn.metrics import mean_squared_error # 均方误差\n",
    "import pandas as pd\n",
    "from sklearn.preprocessing import MinMaxScaler\n",
    "from sklearn.model_selection import train_test_split"
   ]
  },
  {
   "cell_type": "markdown",
   "metadata": {},
   "source": [
    "### 多项式回归"
   ]
  },
  {
   "cell_type": "code",
   "execution_count": 6,
   "metadata": {},
   "outputs": [],
   "source": [
    "#线性回归算法详解 # https://www.cnblogs.com/mantch/archive/2018/12/18/10135708.html\n",
    "##### 什么是线性和非线性\n",
    "###### 线性：两个变量之间的关系是一次函数关系的——图象是直线，叫做线性\n",
    "###### 非线性：两个变量之间的关系不是一次函数关系的——图象不是直线，叫做非线性\n",
    "###### 人们在测量事物的时候因为客观条件所限，求得的都是测量值，而不是事物真实的值，为了能够得到真实值，无限次的进行测量，最后通过这些测量数据计算回归到真实值，这就是回归的由来。\n",
    "###### 通俗的说就是用一个函数去逼近这个真实值，那又有人问了，线性回归不是用来做预测吗？是的，通过大量的数据我们是可以预测到真实值的。\n",
    "###### 泛化性:"
   ]
  },
  {
   "cell_type": "markdown",
   "metadata": {},
   "source": []
  },
  {
   "cell_type": "code",
   "execution_count": 4,
   "metadata": {},
   "outputs": [],
   "source": [
    "# 兼容 pythone2,3\n",
    "from __future__ import print_function\n",
    "\n",
    "# 导入相关python库\n",
    "import os\n",
    "import numpy as np\n",
    "import pandas as pd\n",
    "#使用matplotlib库画图\n",
    "import matplotlib\n",
    "import seaborn\n",
    "import matplotlib.pyplot as plot\n",
    "from sklearn import datasets"
   ]
  },
  {
   "cell_type": "code",
   "execution_count": 5,
   "metadata": {},
   "outputs": [],
   "source": [
    "#设定随机数种子\n",
    "np.random.seed(36)"
   ]
  },
  {
   "cell_type": "code",
   "execution_count": null,
   "metadata": {},
   "outputs": [],
   "source": [
    "# 读取数据\n",
    "housing = pd.read_csv('kc_train.csv')\n",
    "target=pd.read_csv('kc_train2.csv')  # 销售价格\n",
    "t=pd.read_csv('kc_test.csv')         # 测试数据"
   ]
  },
  {
   "cell_type": "code",
   "execution_count": null,
   "metadata": {},
   "outputs": [],
   "source": [
    "#数据预处理\n",
    "housing.info()    # 查看是否有缺失值\n",
    "\n",
    "#特征缩放\n",
    "from sklearn.preprocessing import MinMaxScaler\n",
    "minmax_scaler=MinMaxScaler()\n",
    "minmax_scaler.fit(housing)   #进行内部拟合，内部参数会发生变化\n",
    "scaler_housing=minmax_scaler.transform(housing)\n",
    "scaler_housing=pd.DataFrame(scaler_housing,columns=housing.columns)\n",
    "\n",
    "mm=MinMaxScaler()\n",
    "mm.fit(t)\n",
    "scaler_t=mm.transform(t)\n",
    "scaler_t=pd.DataFrame(scaler_t,columns=t.columns)\n",
    "\n",
    "#选择基于梯度下降的线性回归模型\n",
    "from sklearn.linear_model import LinearRegression\n",
    "LR_reg=LinearRegression()\n",
    "#进行拟合\n",
    "LR_reg.fit(scaler_housing,target)\n",
    "\n",
    "#使用均方误差用于评价模型好坏\n",
    "from sklearn.metrics import mean_squared_error\n",
    "preds=LR_reg.predict(scaler_housing)   #输入数据进行预测得到结果\n",
    "mse=mean_squared_error(preds,target)   #使用均方误差来评价模型好坏，可以输出mse进行查看评价值\n",
    "\n",
    "#绘图进行比较\n",
    "plot.figure(figsize=(10,7))       #画布大小\n",
    "num=100\n",
    "x=np.arange(1,num+1)              #取100个点进行比较\n",
    "plot.plot(x,target[:num],label='target')      #目标取值\n",
    "plot.plot(x,preds[:num],label='preds')        #预测取值\n",
    "plot.legend(loc='upper right')  #线条显示位置\n",
    "plot.show()\n",
    "\n",
    "\n",
    "#输出测试数据\n",
    "result=LR_reg.predict(scaler_t)\n",
    "df_result=pd.DataFrame(result)\n",
    "df_result.to_csv(\"result.csv\")"
   ]
  },
  {
   "cell_type": "code",
   "execution_count": 65,
   "metadata": {},
   "outputs": [],
   "source": [
    "sample_cnt= 32\n",
    "data_x = np.linspace(start = 0, stop = sample_cnt/4, num = sample_cnt).reshape(-1, 1)\n",
    "rand_n = np.random.randn(sample_cnt).reshape(-1, 1)"
   ]
  },
  {
   "cell_type": "code",
   "execution_count": 68,
   "metadata": {},
   "outputs": [],
   "source": [
    "curve_linear = np.sin(data_x)\n",
    "θ0, θ1 = 0.3, -0.05\n",
    "curve_linear = yr = θ0 + θ1 * data_x\n",
    "curve_linear += rand_n * 0.0"
   ]
  },
  {
   "cell_type": "code",
   "execution_count": 74,
   "metadata": {},
   "outputs": [],
   "source": [
    "θ0, θ1, θ2, θ3 = 0.1, -0.02, 0.03, -0.04\n",
    "curve_polynomial = θ0 + θ1*data_x + θ2*(data_x**2) + θ3*(data_x**3)\n",
    "curve_polynomial += rand_n"
   ]
  },
  {
   "cell_type": "code",
   "execution_count": 75,
   "metadata": {},
   "outputs": [
    {
     "data": {
      "text/plain": [
       "Text(0,0.5,'curve_linear(data_x)')"
      ]
     },
     "execution_count": 75,
     "metadata": {},
     "output_type": "execute_result"
    },
    {
     "data": {
      "image/png": "[encoded data removed]",
      "text/plain": [
       "<matplotlib.figure.Figure at 0x2194dfb7828>"
      ]
     },
     "metadata": {
      "needs_background": "light"
     },
     "output_type": "display_data"
    }
   ],
   "source": [
    "plt.subplot(2, 2, 1)\n",
    "plt.plot(data_x, curve_linear, 'b.')\n",
    "plt.xlabel(\"np.linspace(0, 8, 32)\")\n",
    "plt.ylabel(\"curve_linear(data_x)\")"
   ]
  },
  {
   "cell_type": "code",
   "execution_count": 76,
   "metadata": {},
   "outputs": [
    {
     "data": {
      "text/plain": [
       "Text(0,0.5,'curve_polynomial(data_x)')"
      ]
     },
     "execution_count": 76,
     "metadata": {},
     "output_type": "execute_result"
    },
    {
     "data": {
      "image/png": "[encoded data removed]",
      "text/plain": [
       "<matplotlib.figure.Figure at 0x2194ded62e8>"
      ]
     },
     "metadata": {
      "needs_background": "light"
     },
     "output_type": "display_data"
    }
   ],
   "source": [
    "plt.subplot(2, 2, 2)\n",
    "plt.plot(data_x, curve_polynomial, 'b.')\n",
    "plt.xlabel(\"np.linspace(0, 8, 32)\")\n",
    "plt.ylabel(\"curve_polynomial(data_x)\")"
   ]
  },
  {
   "cell_type": "code",
   "execution_count": 77,
   "metadata": {},
   "outputs": [
    {
     "name": "stdout",
     "output_type": "stream",
     "text": [
      "{'degree': 3, 'include_bias': True, 'interaction_only': False, 'order': 'C'}\n"
     ]
    }
   ],
   "source": [
    "poly_features_1 = PolynomialFeatures(degree = 3)\n",
    "linear_reg = LinearRegression()\n",
    "linear_reg.fit(poly_features_1.fit_transform(data_x), curve_linear)\n",
    "print(poly_features_1.get_params())\n",
    "fit_x = np.linspace(start = 0, stop = sample_cnt/4, num = 1024).reshape(-1, 1)\n",
    "fit_linear = linear_reg.predict(poly_features_1.fit_transform(fit_x))"
   ]
  },
  {
   "cell_type": "code",
   "execution_count": 78,
   "metadata": {},
   "outputs": [
    {
     "data": {
      "text/plain": [
       "Text(0,0.5,'curve fitting using Polynomial')"
      ]
     },
     "execution_count": 78,
     "metadata": {},
     "output_type": "execute_result"
    },
    {
     "data": {
      "image/png": "[encoded data removed]",
      "text/plain": [
       "<matplotlib.figure.Figure at 0x2194e299160>"
      ]
     },
     "metadata": {
      "needs_background": "light"
     },
     "output_type": "display_data"
    }
   ],
   "source": [
    "plt.subplot(2, 2, 3)\n",
    "plt.plot(fit_x, fit_linear, 'r-')\n",
    "plt.plot(data_x, curve_linear, 'b.')\n",
    "plt.xlabel(\"np.linspace(0, 8, 32)\")\n",
    "plt.ylabel(\"curve fitting using Polynomial\")"
   ]
  },
  {
   "cell_type": "code",
   "execution_count": 12,
   "metadata": {},
   "outputs": [],
   "source": [
    "housing = pd.read_csv(r'F:\\DATEFILE\\学习代码\\基础算法学习\\训练数据\\美国King County房价预测训练赛\\kc_train.csv',engine='python')\n",
    "target  = pd.read_csv(r'F:\\DATEFILE\\学习代码\\基础算法学习\\训练数据\\美国King County房价预测训练赛\\kc_test.csv',engine='python')"
   ]
  },
  {
   "cell_type": "code",
   "execution_count": 33,
   "metadata": {},
   "outputs": [],
   "source": [
    "#特征缩放 ????????????\n",
    "minmax_scaler=MinMaxScaler()\n",
    "minmax_scaler.fit(housing)   #进行内部拟合，内部参数会发生变化\n",
    "scaler_housing=minmax_scaler.transform(housing)\n",
    "scaler_housing=pd.DataFrame(scaler_housing,columns=housing.columns)"
   ]
  },
  {
   "cell_type": "code",
   "execution_count": 34,
   "metadata": {},
   "outputs": [],
   "source": [
    "train_data = np.array(housing[['销售日期','卧室数量', '浴室数量', '房屋面积', '停车面积', '楼层数', '房屋评分', '建筑面积',\n",
    "       '地下室面积', '建筑年份', '修复年份', '纬度', '经度']])\n",
    "train_target = np.array(housing[['销售价格']])"
   ]
  },
  {
   "cell_type": "code",
   "execution_count": 35,
   "metadata": {},
   "outputs": [],
   "source": [
    "X_train,X_test, y_train, y_test =train_test_split(train_data,train_target,test_size=0.3, random_state=0)"
   ]
  },
  {
   "cell_type": "code",
   "execution_count": 43,
   "metadata": {},
   "outputs": [
    {
     "data": {
      "text/plain": [
       "(10000, 14)"
      ]
     },
     "execution_count": 43,
     "metadata": {},
     "output_type": "execute_result"
    }
   ],
   "source": [
    "scaler_housing.shape"
   ]
  },
  {
   "cell_type": "code",
   "execution_count": 61,
   "metadata": {},
   "outputs": [
    {
     "data": {
      "text/plain": [
       "LinearRegression(copy_X=True, fit_intercept=True, n_jobs=None, normalize=False)"
      ]
     },
     "execution_count": 61,
     "metadata": {},
     "output_type": "execute_result"
    }
   ],
   "source": [
    "#选择基于梯度下降的线性回归模型\n",
    "from sklearn.linear_model import LinearRegression\n",
    "LR_reg=LinearRegression()\n",
    "#进行拟合\n",
    "LR_reg.fit(X_train,y_train)"
   ]
  },
  {
   "cell_type": "markdown",
   "metadata": {},
   "source": [
    "###### 数理统计中均方误差是指参数估计值与参数真值之差平方的期望值，\n",
    "记为MSE。MSE是衡量“平均误差”的一种较方便的方法，M\n",
    "SE可以评价数据的变化程度，MSE的值越小，说明预测模型描述实验数据具有更好的精确度"
   ]
  },
  {
   "cell_type": "code",
   "execution_count": 60,
   "metadata": {},
   "outputs": [
    {
     "data": {
      "text/plain": [
       "45977434348.22343"
      ]
     },
     "execution_count": 60,
     "metadata": {},
     "output_type": "execute_result"
    }
   ],
   "source": [
    "from sklearn.metrics import mean_squared_error\n",
    "preds=LR_reg.predict(X_test)   #输入数据进行预测得到结果\n",
    "mse = mean_squared_error(y_test,preds)   #使用均方误差来评价模型好坏，可以输出mse进行查看评价值\n",
    "mse\n",
    "# preds"
   ]
  },
  {
   "cell_type": "code",
   "execution_count": 42,
   "metadata": {},
   "outputs": [],
   "source": [
    "# pd.DataFrame(preds)"
   ]
  },
  {
   "cell_type": "code",
   "execution_count": 62,
   "metadata": {},
   "outputs": [
    {
     "data": {
      "image/png": "[encoded data removed]",
      "text/plain": [
       "<matplotlib.figure.Figure at 0x2194e831240>"
      ]
     },
     "metadata": {
      "needs_background": "light"
     },
     "output_type": "display_data"
    }
   ],
   "source": [
    "#绘图进行比较\n",
    "plt.figure(figsize=(10,7))       #画布大小\n",
    "num=100\n",
    "x=np.arange(1,num+1)              #取100个点进行比较\n",
    "plt.plot(x,target[:num],label='销售价格')      #目标取值\n",
    "plt.plot(x,preds[:num],label='preds')        #预测取值\n",
    "plt.legend(loc='upper right')  # 线条显示位置\n",
    "plt.show()"
   ]
  },
  {
   "cell_type": "code",
   "execution_count": 77,
   "metadata": {},
   "outputs": [
    {
     "data": {
      "image/png": "[encoded data removed]",
      "text/plain": [
       "<matplotlib.figure.Figure at 0x179ebfcfa20>"
      ]
     },
     "metadata": {
      "needs_background": "light"
     },
     "output_type": "display_data"
    }
   ],
   "source": [
    "plt.plot(x,target[:num],label='销售价格')      #目标取值\n",
    "plt.show()"
   ]
  },
  {
   "cell_type": "code",
   "execution_count": null,
   "metadata": {},
   "outputs": [],
   "source": [
    "plt.plot(x,target[:num],label='target')      #目标取值\n",
    "plt.plot(x,preds[:num],label='preds')        #预测取值\n",
    "plt.legend(loc='upper right')  #线条显示位置\n",
    "plt.show()"
   ]
  },
  {
   "cell_type": "code",
   "execution_count": 27,
   "metadata": {},
   "outputs": [
    {
     "name": "stdout",
     "output_type": "stream",
     "text": [
      "<class 'pandas.core.frame.DataFrame'>\n",
      "RangeIndex: 2999 entries, 0 to 2998\n",
      "Data columns (total 13 columns):\n",
      "20140502    2999 non-null int64\n",
      "2           2999 non-null int64\n",
      "1           2999 non-null float64\n",
      "880         2999 non-null int64\n",
      "6380        2999 non-null int64\n",
      "1.1         2999 non-null float64\n",
      "7           2999 non-null int64\n",
      "880.1       2999 non-null int64\n",
      "0           2999 non-null int64\n",
      "1938        2999 non-null int64\n",
      "1994        2999 non-null int64\n",
      "47.6924     2999 non-null float64\n",
      "-122.322    2999 non-null float64\n",
      "dtypes: float64(4), int64(9)\n",
      "memory usage: 304.7 KB\n"
     ]
    }
   ],
   "source": [
    "housing.info()"
   ]
  },
  {
   "cell_type": "code",
   "execution_count": 21,
   "metadata": {},
   "outputs": [
    {
     "data": {
      "text/plain": [
       "Text(0,0.5,'curve_polynomial(data_x)')"
      ]
     },
     "execution_count": 21,
     "metadata": {},
     "output_type": "execute_result"
    },
    {
     "data": {
      "image/png": "[encoded data removed]",
      "text/plain": [
       "<matplotlib.figure.Figure at 0x179ea474358>"
      ]
     },
     "metadata": {
      "needs_background": "light"
     },
     "output_type": "display_data"
    }
   ],
   "source": [
    "sample_cnt= 32\n",
    "\n",
    "data_x = np.linspace(start = 0, stop = sample_cnt/4, num = sample_cnt).reshape(-1, 1)\n",
    "rand_n = np.random.randn(sample_cnt).reshape(-1, 1)\n",
    "\n",
    "# curve using linear\n",
    "curve_linear = np.sin(data_x)\n",
    "θ0, θ1 = 0.3, -0.05\n",
    "curve_linear = yr = θ0 + θ1*data_x\n",
    "curve_linear += rand_n * 0.03\n",
    "\n",
    "# curve using polynomial\n",
    "θ0, θ1, θ2, θ3 = 0.1, -0.02, 0.03, -0.04\n",
    "curve_polynomial = θ0 + θ1*data_x + θ2*(data_x**2) + θ3*(data_x**3)\n",
    "curve_polynomial += rand_n\n",
    "\n",
    "plt.subplot(2, 2, 1)\n",
    "plt.plot(data_x, curve_linear, 'b.')\n",
    "plt.xlabel(\"np.linspace(0, 8, 32)\")\n",
    "plt.ylabel(\"curve_linear(data_x)\")\n",
    "\n",
    "plt.subplot(2, 2, 2)\n",
    "plt.plot(data_x, curve_polynomial, 'b.')\n",
    "plt.xlabel(\"np.linspace(0, 8, 32)\")\n",
    "plt.ylabel(\"curve_polynomial(data_x)\")"
   ]
  },
  {
   "cell_type": "code",
   "execution_count": null,
   "metadata": {},
   "outputs": [],
   "source": [
    "date_f = pd.read_excel\n",
    "train_features, test_features, train_labels, test_labels = train_test_split(features, labels, test_size=0.33, random_state=0)\n"
   ]
  }
 ],
 "metadata": {
  "kernelspec": {
   "display_name": "Python 3",
   "language": "python",
   "name": "python3"
  },
  "language_info": {
   "codemirror_mode": {
    "name": "ipython",
    "version": 3
   },
   "file_extension": ".py",
   "mimetype": "text/x-python",
   "name": "python",
   "nbconvert_exporter": "python",
   "pygments_lexer": "ipython3",
   "version": "3.6.4"
  }
 },
 "nbformat": 4,
 "nbformat_minor": 2
}
