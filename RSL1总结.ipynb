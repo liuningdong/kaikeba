{
 "cells": [
  {
   "cell_type": "code",
   "execution_count": null,
   "metadata": {},
   "outputs": [],
   "source": [
    "什么是AI?"
   ]
  },
  {
   "cell_type": "code",
   "execution_count": null,
   "metadata": {},
   "outputs": [],
   "source": [
    "它是研究、开发用于模拟、延伸和扩展人的智能的理论、方法、技术及应用系统的一门新的技术科学.\n",
    "可用于预测:预测天气、股票、商品价格、企业发展、风险控制\n",
    "推荐:推荐和“我”相关的item（商品、新闻、电影、音乐、用户、路径）\n",
    "分类识别：某一领域的分类识别能力，图像识别、语音识别、自然语言处理"
   ]
  },
  {
   "cell_type": "code",
   "execution_count": null,
   "metadata": {},
   "outputs": [],
   "source": [
    "机器学习(数据决定了机器学习结果的上限，而算法只是尽可能逼近这个上限)"
   ]
  },
  {
   "cell_type": "code",
   "execution_count": null,
   "metadata": {},
   "outputs": [],
   "source": [
    "数据收集:\n",
    "    带着提问来进行获取,你想要什么,你想做什么,你想解决什么问题? \n",
    "    根据工作中业务需求以及问题点进行业务分析,才能知道你想要什么数据,通过这类数据能解决相应的问题.\n",
    "    分类,对于分类问题，数据偏斜不能过于严重\n",
    "    数据的量级有一个评估，多少个样本，多少个特征，\n",
    "    可以估算出其对内存的消耗程度，判断训练过程中内存是否能够放得下。\n",
    "    如果放不下就得考虑改进算法或者使用一些降维的技巧了。如果数据量实在太大，那就要考虑分布式了\n",
    "数据预处理:(反复理解业务逻辑&及目标明确化)\n",
    "    在机器学习中80%的工作都处在数据处理这一个阶段,特征预处理、数据清洗是很关键的步骤，往往能够使得算法的效果和性能得到显著提高。\n",
    "    数据挖掘过程中基本都围绕在归一化、离散化、因子化、缺失值处理、去除共线性等方面进行工作。筛选出显著特征、摒弃非显著特征，需要机器学习工程师反复理解业务。\n",
    "选择模型:\n",
    "    根据处理后的数据首先分析这些数据是属于回归问题,还是分类问题。\n",
    "    根据上述问题选择多个模型进行进行训练,诊断模型是否进行调整超参数,使得结果更加优良。\n",
    "模型评估:\n",
    "    过拟合、欠拟合 判断是模型诊断中至关重要的一步。常见的方法如交叉验证，绘制学习曲线等。\n",
    "    过拟合的基本调优思路是增加数据量，降低模型复杂度。欠拟合的基本调优思路是提高特征数量和质量，增加模型复杂度\n",
    "    误差分析:也是机器学习至关重要的步骤。通过观察误差样本，全面分析误差产生误差的原因:是参数的问题还是算法选择的问题，是特征的问题还是数据本身的问题。\n",
    "    诊断后模型进行调优,调优后的模型进行重新评估,不断循环反复迭代逼近,从而达到一个最优的状态。"
   ]
  },
  {
   "cell_type": "code",
   "execution_count": null,
   "metadata": {},
   "outputs": [],
   "source": [
    "什么是推荐系统?"
   ]
  },
  {
   "cell_type": "code",
   "execution_count": null,
   "metadata": {},
   "outputs": [],
   "source": [
    "根据用户喜好进行用户个性化物品推荐\n",
    "推荐系统的评价指标有两大类：一类是线上的评价指标：如点击率，转化率，网洛流量，A/Btest等，第二类是线下的用于训练用户模型和选择模型的指标\n",
    "# https://zhuanlan.zhihu.com/p/97019080\n",
    "样例:淘宝千人千面"
   ]
  },
  {
   "cell_type": "code",
   "execution_count": null,
   "metadata": {},
   "outputs": [],
   "source": [
    "推荐系统的3个模块：A 数据源，B 召回， C 排序"
   ]
  },
  {
   "cell_type": "code",
   "execution_count": null,
   "metadata": {},
   "outputs": [],
   "source": [
    "既然内容相似度计算简单，能频繁更新，为什么还需要协同过滤算法呢？"
   ]
  },
  {
   "cell_type": "code",
   "execution_count": null,
   "metadata": {},
   "outputs": [],
   "source": [
    "你需要推荐系统么？哪些情况下不需要推荐系统？"
   ]
  },
  {
   "cell_type": "code",
   "execution_count": null,
   "metadata": {},
   "outputs": [],
   "source": [
    "需要,特别需要\n",
    "\n",
    "看看产品的目的。如果一款产品关联建立单一，那么它不需要一个推荐系统.\n",
    "看看产品现有的连接。如果你的产品中物品很少，少到用人工就可以应付过来，用户产生的连接不多.那么就不需要推荐系统"
   ]
  }
 ],
 "metadata": {
  "kernelspec": {
   "display_name": "Python 3",
   "language": "python",
   "name": "python3"
  },
  "language_info": {
   "codemirror_mode": {
    "name": "ipython",
    "version": 3
   },
   "file_extension": ".py",
   "mimetype": "text/x-python",
   "name": "python",
   "nbconvert_exporter": "python",
   "pygments_lexer": "ipython3",
   "version": "3.6.4"
  }
 },
 "nbformat": 4,
 "nbformat_minor": 2
}
